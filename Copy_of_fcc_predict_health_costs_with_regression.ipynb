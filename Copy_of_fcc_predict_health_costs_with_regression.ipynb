{
  "nbformat": 4,
  "nbformat_minor": 0,
  "metadata": {
    "colab": {
      "name": "Copy of fcc_predict_health_costs_with_regression.ipynb",
      "provenance": [],
      "collapsed_sections": [],
      "include_colab_link": true
    },
    "kernelspec": {
      "display_name": "Python 3",
      "name": "python3"
    }
  },
  "cells": [
    {
      "cell_type": "markdown",
      "metadata": {
        "id": "view-in-github",
        "colab_type": "text"
      },
      "source": [
        "<a href=\"https://colab.research.google.com/github/DiaaEddinH/small-indiv-projects/blob/master/Copy_of_fcc_predict_health_costs_with_regression.ipynb\" target=\"_parent\"><img src=\"https://colab.research.google.com/assets/colab-badge.svg\" alt=\"Open In Colab\"/></a>"
      ]
    },
    {
      "cell_type": "markdown",
      "metadata": {
        "id": "M9TX15KOkPBV"
      },
      "source": [
        "*Note: You are currently reading this using Google Colaboratory which is a cloud-hosted version of Jupyter Notebook. This is a document containing both text cells for documentation and runnable code cells. If you are unfamiliar with Jupyter Notebook, watch this 3-minute introduction before starting this challenge: https://www.youtube.com/watch?v=inN8seMm7UI*\n",
        "\n",
        "---\n",
        "\n",
        "In this challenge, you will predict healthcare costs using a regression algorithm.\n",
        "\n",
        "You are given a dataset that contains information about different people including their healthcare costs. Use the data to predict healthcare costs based on new data.\n",
        "\n",
        "The first two cells of this notebook import libraries and the data.\n",
        "\n",
        "Make sure to convert categorical data to numbers. Use 80% of the data as the `train_dataset` and 20% of the data as the `test_dataset`.\n",
        "\n",
        "`pop` off the \"expenses\" column from these datasets to create new datasets called `train_labels` and `test_labels`. Use these labels when training your model.\n",
        "\n",
        "Create a model and train it with the `train_dataset`. Run the final cell in this notebook to check your model. The final cell will use the unseen `test_dataset` to check how well the model generalizes.\n",
        "\n",
        "To pass the challenge, `model.evaluate` must return a Mean Absolute Error of under 3500. This means it predicts health care costs correctly within $3500.\n",
        "\n",
        "The final cell will also predict expenses using the `test_dataset` and graph the results."
      ]
    },
    {
      "cell_type": "code",
      "metadata": {
        "id": "1rRo8oNqZ-Rj",
        "colab": {
          "base_uri": "https://localhost:8080/"
        },
        "outputId": "689bb2a1-a2b3-4ea1-d5e4-ee12a6b0563d"
      },
      "source": [
        "# Import libraries. You may or may not use all of these.\n",
        "!pip install -q git+https://github.com/tensorflow/docs\n",
        "import matplotlib.pyplot as plt\n",
        "import numpy as np\n",
        "import pandas as pd\n",
        "\n",
        "try:\n",
        "  # %tensorflow_version only exists in Colab.\n",
        "  %tensorflow_version 2.x\n",
        "except Exception:\n",
        "  pass\n",
        "import tensorflow as tf\n",
        "\n",
        "from tensorflow import keras\n",
        "from tensorflow.keras import layers\n",
        "\n",
        "import tensorflow_docs as tfdocs\n",
        "import tensorflow_docs.plots\n",
        "import tensorflow_docs.modeling"
      ],
      "execution_count": null,
      "outputs": [
        {
          "output_type": "stream",
          "text": [
            "\u001b[?25l\r\u001b[K     |▎                               | 10kB 24.3MB/s eta 0:00:01\r\u001b[K     |▋                               | 20kB 25.2MB/s eta 0:00:01\r\u001b[K     |█                               | 30kB 12.5MB/s eta 0:00:01\r\u001b[K     |█▎                              | 40kB 14.6MB/s eta 0:00:01\r\u001b[K     |█▋                              | 51kB 16.5MB/s eta 0:00:01\r\u001b[K     |██                              | 61kB 18.7MB/s eta 0:00:01\r\u001b[K     |██▎                             | 71kB 14.6MB/s eta 0:00:01\r\u001b[K     |██▋                             | 81kB 16.0MB/s eta 0:00:01\r\u001b[K     |██▉                             | 92kB 13.7MB/s eta 0:00:01\r\u001b[K     |███▏                            | 102kB 12.5MB/s eta 0:00:01\r\u001b[K     |███▌                            | 112kB 12.5MB/s eta 0:00:01\r\u001b[K     |███▉                            | 122kB 12.5MB/s eta 0:00:01\r\u001b[K     |████▏                           | 133kB 12.5MB/s eta 0:00:01\r\u001b[K     |████▌                           | 143kB 12.5MB/s eta 0:00:01\r\u001b[K     |████▉                           | 153kB 12.5MB/s eta 0:00:01\r\u001b[K     |█████▏                          | 163kB 12.5MB/s eta 0:00:01\r\u001b[K     |█████▌                          | 174kB 12.5MB/s eta 0:00:01\r\u001b[K     |█████▊                          | 184kB 12.5MB/s eta 0:00:01\r\u001b[K     |██████                          | 194kB 12.5MB/s eta 0:00:01\r\u001b[K     |██████▍                         | 204kB 12.5MB/s eta 0:00:01\r\u001b[K     |██████▊                         | 215kB 12.5MB/s eta 0:00:01\r\u001b[K     |███████                         | 225kB 12.5MB/s eta 0:00:01\r\u001b[K     |███████▍                        | 235kB 12.5MB/s eta 0:00:01\r\u001b[K     |███████▊                        | 245kB 12.5MB/s eta 0:00:01\r\u001b[K     |████████                        | 256kB 12.5MB/s eta 0:00:01\r\u001b[K     |████████▎                       | 266kB 12.5MB/s eta 0:00:01\r\u001b[K     |████████▋                       | 276kB 12.5MB/s eta 0:00:01\r\u001b[K     |█████████                       | 286kB 12.5MB/s eta 0:00:01\r\u001b[K     |█████████▎                      | 296kB 12.5MB/s eta 0:00:01\r\u001b[K     |█████████▋                      | 307kB 12.5MB/s eta 0:00:01\r\u001b[K     |██████████                      | 317kB 12.5MB/s eta 0:00:01\r\u001b[K     |██████████▎                     | 327kB 12.5MB/s eta 0:00:01\r\u001b[K     |██████████▋                     | 337kB 12.5MB/s eta 0:00:01\r\u001b[K     |███████████                     | 348kB 12.5MB/s eta 0:00:01\r\u001b[K     |███████████▏                    | 358kB 12.5MB/s eta 0:00:01\r\u001b[K     |███████████▌                    | 368kB 12.5MB/s eta 0:00:01\r\u001b[K     |███████████▉                    | 378kB 12.5MB/s eta 0:00:01\r\u001b[K     |████████████▏                   | 389kB 12.5MB/s eta 0:00:01\r\u001b[K     |████████████▌                   | 399kB 12.5MB/s eta 0:00:01\r\u001b[K     |████████████▉                   | 409kB 12.5MB/s eta 0:00:01\r\u001b[K     |█████████████▏                  | 419kB 12.5MB/s eta 0:00:01\r\u001b[K     |█████████████▌                  | 430kB 12.5MB/s eta 0:00:01\r\u001b[K     |█████████████▊                  | 440kB 12.5MB/s eta 0:00:01\r\u001b[K     |██████████████                  | 450kB 12.5MB/s eta 0:00:01\r\u001b[K     |██████████████▍                 | 460kB 12.5MB/s eta 0:00:01\r\u001b[K     |██████████████▊                 | 471kB 12.5MB/s eta 0:00:01\r\u001b[K     |███████████████                 | 481kB 12.5MB/s eta 0:00:01\r\u001b[K     |███████████████▍                | 491kB 12.5MB/s eta 0:00:01\r\u001b[K     |███████████████▊                | 501kB 12.5MB/s eta 0:00:01\r\u001b[K     |████████████████                | 512kB 12.5MB/s eta 0:00:01\r\u001b[K     |████████████████▍               | 522kB 12.5MB/s eta 0:00:01\r\u001b[K     |████████████████▋               | 532kB 12.5MB/s eta 0:00:01\r\u001b[K     |█████████████████               | 542kB 12.5MB/s eta 0:00:01\r\u001b[K     |█████████████████▎              | 552kB 12.5MB/s eta 0:00:01\r\u001b[K     |█████████████████▋              | 563kB 12.5MB/s eta 0:00:01\r\u001b[K     |██████████████████              | 573kB 12.5MB/s eta 0:00:01\r\u001b[K     |██████████████████▎             | 583kB 12.5MB/s eta 0:00:01\r\u001b[K     |██████████████████▋             | 593kB 12.5MB/s eta 0:00:01\r\u001b[K     |███████████████████             | 604kB 12.5MB/s eta 0:00:01\r\u001b[K     |███████████████████▏            | 614kB 12.5MB/s eta 0:00:01\r\u001b[K     |███████████████████▌            | 624kB 12.5MB/s eta 0:00:01\r\u001b[K     |███████████████████▉            | 634kB 12.5MB/s eta 0:00:01\r\u001b[K     |████████████████████▏           | 645kB 12.5MB/s eta 0:00:01\r\u001b[K     |████████████████████▌           | 655kB 12.5MB/s eta 0:00:01\r\u001b[K     |████████████████████▉           | 665kB 12.5MB/s eta 0:00:01\r\u001b[K     |█████████████████████▏          | 675kB 12.5MB/s eta 0:00:01\r\u001b[K     |█████████████████████▌          | 686kB 12.5MB/s eta 0:00:01\r\u001b[K     |█████████████████████▉          | 696kB 12.5MB/s eta 0:00:01\r\u001b[K     |██████████████████████          | 706kB 12.5MB/s eta 0:00:01\r\u001b[K     |██████████████████████▍         | 716kB 12.5MB/s eta 0:00:01\r\u001b[K     |██████████████████████▊         | 727kB 12.5MB/s eta 0:00:01\r\u001b[K     |███████████████████████         | 737kB 12.5MB/s eta 0:00:01\r\u001b[K     |███████████████████████▍        | 747kB 12.5MB/s eta 0:00:01\r\u001b[K     |███████████████████████▊        | 757kB 12.5MB/s eta 0:00:01\r\u001b[K     |████████████████████████        | 768kB 12.5MB/s eta 0:00:01\r\u001b[K     |████████████████████████▍       | 778kB 12.5MB/s eta 0:00:01\r\u001b[K     |████████████████████████▋       | 788kB 12.5MB/s eta 0:00:01\r\u001b[K     |█████████████████████████       | 798kB 12.5MB/s eta 0:00:01\r\u001b[K     |█████████████████████████▎      | 808kB 12.5MB/s eta 0:00:01\r\u001b[K     |█████████████████████████▋      | 819kB 12.5MB/s eta 0:00:01\r\u001b[K     |██████████████████████████      | 829kB 12.5MB/s eta 0:00:01\r\u001b[K     |██████████████████████████▎     | 839kB 12.5MB/s eta 0:00:01\r\u001b[K     |██████████████████████████▋     | 849kB 12.5MB/s eta 0:00:01\r\u001b[K     |███████████████████████████     | 860kB 12.5MB/s eta 0:00:01\r\u001b[K     |███████████████████████████▎    | 870kB 12.5MB/s eta 0:00:01\r\u001b[K     |███████████████████████████▌    | 880kB 12.5MB/s eta 0:00:01\r\u001b[K     |███████████████████████████▉    | 890kB 12.5MB/s eta 0:00:01\r\u001b[K     |████████████████████████████▏   | 901kB 12.5MB/s eta 0:00:01\r\u001b[K     |████████████████████████████▌   | 911kB 12.5MB/s eta 0:00:01\r\u001b[K     |████████████████████████████▉   | 921kB 12.5MB/s eta 0:00:01\r\u001b[K     |█████████████████████████████▏  | 931kB 12.5MB/s eta 0:00:01\r\u001b[K     |█████████████████████████████▌  | 942kB 12.5MB/s eta 0:00:01\r\u001b[K     |█████████████████████████████▉  | 952kB 12.5MB/s eta 0:00:01\r\u001b[K     |██████████████████████████████▏ | 962kB 12.5MB/s eta 0:00:01\r\u001b[K     |██████████████████████████████▍ | 972kB 12.5MB/s eta 0:00:01\r\u001b[K     |██████████████████████████████▊ | 983kB 12.5MB/s eta 0:00:01\r\u001b[K     |███████████████████████████████ | 993kB 12.5MB/s eta 0:00:01\r\u001b[K     |███████████████████████████████▍| 1.0MB 12.5MB/s eta 0:00:01\r\u001b[K     |███████████████████████████████▊| 1.0MB 12.5MB/s eta 0:00:01\r\u001b[K     |████████████████████████████████| 1.0MB 12.5MB/s \n",
            "\u001b[?25h  Building wheel for tensorflow-docs (setup.py) ... \u001b[?25l\u001b[?25hdone\n"
          ],
          "name": "stdout"
        }
      ]
    },
    {
      "cell_type": "code",
      "metadata": {
        "id": "CiX2FI4gZtTt",
        "colab": {
          "base_uri": "https://localhost:8080/",
          "height": 408
        },
        "outputId": "85a679d4-9716-494d-cfa2-211920e2cdb7"
      },
      "source": [
        "# Import data\n",
        "!wget https://cdn.freecodecamp.org/project-data/health-costs/insurance.csv\n",
        "dataset = pd.read_csv('insurance.csv')\n",
        "dataset.tail()"
      ],
      "execution_count": null,
      "outputs": [
        {
          "output_type": "stream",
          "text": [
            "--2021-03-18 01:25:58--  https://cdn.freecodecamp.org/project-data/health-costs/insurance.csv\n",
            "Resolving cdn.freecodecamp.org (cdn.freecodecamp.org)... 104.26.3.33, 172.67.70.149, 104.26.2.33, ...\n",
            "Connecting to cdn.freecodecamp.org (cdn.freecodecamp.org)|104.26.3.33|:443... connected.\n",
            "HTTP request sent, awaiting response... 200 OK\n",
            "Length: unspecified [text/csv]\n",
            "Saving to: ‘insurance.csv’\n",
            "\n",
            "insurance.csv           [ <=>                ]  49.09K  --.-KB/s    in 0.01s   \n",
            "\n",
            "2021-03-18 01:25:59 (4.80 MB/s) - ‘insurance.csv’ saved [50264]\n",
            "\n"
          ],
          "name": "stdout"
        },
        {
          "output_type": "execute_result",
          "data": {
            "text/html": [
              "<div>\n",
              "<style scoped>\n",
              "    .dataframe tbody tr th:only-of-type {\n",
              "        vertical-align: middle;\n",
              "    }\n",
              "\n",
              "    .dataframe tbody tr th {\n",
              "        vertical-align: top;\n",
              "    }\n",
              "\n",
              "    .dataframe thead th {\n",
              "        text-align: right;\n",
              "    }\n",
              "</style>\n",
              "<table border=\"1\" class=\"dataframe\">\n",
              "  <thead>\n",
              "    <tr style=\"text-align: right;\">\n",
              "      <th></th>\n",
              "      <th>age</th>\n",
              "      <th>sex</th>\n",
              "      <th>bmi</th>\n",
              "      <th>children</th>\n",
              "      <th>smoker</th>\n",
              "      <th>region</th>\n",
              "      <th>expenses</th>\n",
              "    </tr>\n",
              "  </thead>\n",
              "  <tbody>\n",
              "    <tr>\n",
              "      <th>1333</th>\n",
              "      <td>50</td>\n",
              "      <td>male</td>\n",
              "      <td>31.0</td>\n",
              "      <td>3</td>\n",
              "      <td>no</td>\n",
              "      <td>northwest</td>\n",
              "      <td>10600.55</td>\n",
              "    </tr>\n",
              "    <tr>\n",
              "      <th>1334</th>\n",
              "      <td>18</td>\n",
              "      <td>female</td>\n",
              "      <td>31.9</td>\n",
              "      <td>0</td>\n",
              "      <td>no</td>\n",
              "      <td>northeast</td>\n",
              "      <td>2205.98</td>\n",
              "    </tr>\n",
              "    <tr>\n",
              "      <th>1335</th>\n",
              "      <td>18</td>\n",
              "      <td>female</td>\n",
              "      <td>36.9</td>\n",
              "      <td>0</td>\n",
              "      <td>no</td>\n",
              "      <td>southeast</td>\n",
              "      <td>1629.83</td>\n",
              "    </tr>\n",
              "    <tr>\n",
              "      <th>1336</th>\n",
              "      <td>21</td>\n",
              "      <td>female</td>\n",
              "      <td>25.8</td>\n",
              "      <td>0</td>\n",
              "      <td>no</td>\n",
              "      <td>southwest</td>\n",
              "      <td>2007.95</td>\n",
              "    </tr>\n",
              "    <tr>\n",
              "      <th>1337</th>\n",
              "      <td>61</td>\n",
              "      <td>female</td>\n",
              "      <td>29.1</td>\n",
              "      <td>0</td>\n",
              "      <td>yes</td>\n",
              "      <td>northwest</td>\n",
              "      <td>29141.36</td>\n",
              "    </tr>\n",
              "  </tbody>\n",
              "</table>\n",
              "</div>"
            ],
            "text/plain": [
              "      age     sex   bmi  children smoker     region  expenses\n",
              "1333   50    male  31.0         3     no  northwest  10600.55\n",
              "1334   18  female  31.9         0     no  northeast   2205.98\n",
              "1335   18  female  36.9         0     no  southeast   1629.83\n",
              "1336   21  female  25.8         0     no  southwest   2007.95\n",
              "1337   61  female  29.1         0    yes  northwest  29141.36"
            ]
          },
          "metadata": {
            "tags": []
          },
          "execution_count": 3
        }
      ]
    },
    {
      "cell_type": "code",
      "metadata": {
        "id": "u0VUJ1CLOXIk"
      },
      "source": [
        "def region_map(region=\"\"):\n",
        "  if \"north\" in region:\n",
        "    if \"west\" in region:\n",
        "      return 0\n",
        "    else:\n",
        "      return 1\n",
        "  elif \"south\" in region:\n",
        "    if \"west\" in region:\n",
        "      return 2\n",
        "    else:\n",
        "      return 3\n",
        "  else:\n",
        "    return"
      ],
      "execution_count": null,
      "outputs": []
    },
    {
      "cell_type": "code",
      "metadata": {
        "id": "LcopvQh3X-kX"
      },
      "source": [
        "#Convert categorical data to numeric\n",
        "dataset['sex'] = dataset['sex'].map(lambda k: 0 if k=='male' else 1)\n",
        "dataset['smoker'] = dataset['smoker'].map(lambda k: 0 if k=='no' else 1)\n",
        "dataset['region'] = dataset['region'].map(region_map)\n",
        "\n",
        "#Split dataset -> 80% training, 20% testing\n",
        "df = dataset.copy()\n",
        "train_dataset = df.sample(frac=0.8,random_state=0)\n",
        "test_dataset = df.drop(train_dataset.index)\n",
        "\n",
        "#Use \"expenses\" column as label for training\n",
        "train_labels = train_dataset.copy().pop(\"expenses\")\n",
        "test_labels = test_dataset.copy().pop(\"expenses\")"
      ],
      "execution_count": null,
      "outputs": []
    },
    {
      "cell_type": "code",
      "metadata": {
        "id": "iTloqeQ2AbYZ"
      },
      "source": [
        "#Build model\n",
        "def build_model():\n",
        "  model = tf.keras.Sequential()\n",
        "  model.add(layers.Dense(64, input_shape=(train_dataset.shape[1],), activation='relu'))\n",
        "  model.add(layers.Dense(64, activation='relu'))\n",
        "  model.add(layers.Dense(1))\n",
        "  model.compile(optimizer='adam',loss='mse',metrics=['mae','mse'])\n",
        "\n",
        "  return model"
      ],
      "execution_count": null,
      "outputs": []
    },
    {
      "cell_type": "code",
      "metadata": {
        "colab": {
          "base_uri": "https://localhost:8080/"
        },
        "id": "jApmgQMTPMaj",
        "outputId": "f25086c4-13da-429e-baa6-df680c12a450"
      },
      "source": [
        "model = build_model()\n",
        "model.fit(train_dataset,train_labels,batch_size=1,verbose=1,epochs=10)"
      ],
      "execution_count": null,
      "outputs": [
        {
          "output_type": "stream",
          "text": [
            "Epoch 1/10\n",
            "1070/1070 [==============================] - 1s 1ms/step - loss: 50694817.6041 - mae: 2402.2150 - mse: 50694817.6041\n",
            "Epoch 2/10\n",
            "1070/1070 [==============================] - 1s 990us/step - loss: 262.2813 - mae: 14.8846 - mse: 262.2813\n",
            "Epoch 3/10\n",
            "1070/1070 [==============================] - 1s 985us/step - loss: 255.5722 - mae: 13.0795 - mse: 255.5722\n",
            "Epoch 4/10\n",
            "1070/1070 [==============================] - 1s 1ms/step - loss: 208.5806 - mae: 10.3982 - mse: 208.5806\n",
            "Epoch 5/10\n",
            "1070/1070 [==============================] - 1s 998us/step - loss: 1553.3313 - mae: 19.4942 - mse: 1553.3313\n",
            "Epoch 6/10\n",
            "1070/1070 [==============================] - 1s 977us/step - loss: 117082.3075 - mae: 126.5968 - mse: 117082.3075\n",
            "Epoch 7/10\n",
            "1070/1070 [==============================] - 1s 990us/step - loss: 43329.2152 - mae: 69.2391 - mse: 43329.2152\n",
            "Epoch 8/10\n",
            "1070/1070 [==============================] - 1s 991us/step - loss: 208611.1383 - mae: 144.9855 - mse: 208611.1383\n",
            "Epoch 9/10\n",
            "1070/1070 [==============================] - 1s 961us/step - loss: 12173.9075 - mae: 28.1603 - mse: 12173.9075\n",
            "Epoch 10/10\n",
            "1070/1070 [==============================] - 1s 962us/step - loss: 9968.3313 - mae: 39.4299 - mse: 9968.3313\n"
          ],
          "name": "stdout"
        },
        {
          "output_type": "execute_result",
          "data": {
            "text/plain": [
              "<tensorflow.python.keras.callbacks.History at 0x7f637a866850>"
            ]
          },
          "metadata": {
            "tags": []
          },
          "execution_count": 10
        }
      ]
    },
    {
      "cell_type": "code",
      "metadata": {
        "id": "Xe7RXH3N3CWU",
        "colab": {
          "base_uri": "https://localhost:8080/",
          "height": 338
        },
        "outputId": "8dd4036f-53e2-4895-fb93-c13836bdeef0"
      },
      "source": [
        "# RUN THIS CELL TO TEST YOUR MODEL. DO NOT MODIFY CONTENTS.\n",
        "# Test model by checking how well the model generalizes using the test set.\n",
        "loss, mae, mse = model.evaluate(test_dataset, test_labels, verbose=2)\n",
        "\n",
        "print(\"Testing set Mean Abs Error: {:5.2f} expenses\".format(mae))\n",
        "\n",
        "if mae < 3500:\n",
        "  print(\"You passed the challenge. Great job!\")\n",
        "else:\n",
        "  print(\"The Mean Abs Error must be less than 3500. Keep trying.\")\n",
        "\n",
        "# Plot predictions.\n",
        "test_predictions = model.predict(test_dataset).flatten()\n",
        "\n",
        "a = plt.axes(aspect='equal')\n",
        "plt.scatter(test_labels, test_predictions)\n",
        "plt.xlabel('True values (expenses)')\n",
        "plt.ylabel('Predictions (expenses)')\n",
        "lims = [0, 50000]\n",
        "plt.xlim(lims)\n",
        "plt.ylim(lims)\n",
        "_ = plt.plot(lims,lims)\n"
      ],
      "execution_count": null,
      "outputs": [
        {
          "output_type": "stream",
          "text": [
            "9/9 - 0s - loss: 2829.4341 - mae: 41.7589 - mse: 2829.4341\n",
            "Testing set Mean Abs Error: 41.76 expenses\n",
            "You passed the challenge. Great job!\n"
          ],
          "name": "stdout"
        },
        {
          "output_type": "display_data",
          "data": {
            "image/png": "[encoded data removed]",
            "text/plain": [
              "<Figure size 432x288 with 1 Axes>"
            ]
          },
          "metadata": {
            "tags": [],
            "needs_background": "light"
          }
        }
      ]
    }
  ]
}